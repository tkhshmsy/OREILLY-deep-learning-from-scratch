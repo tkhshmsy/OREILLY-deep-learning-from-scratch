{
  "nbformat": 4,
  "nbformat_minor": 0,
  "metadata": {
    "colab": {
      "name": "DeepLearningFromScratch-Chapter5.ipynb",
      "provenance": [],
      "collapsed_sections": [],
      "toc_visible": true
    },
    "kernelspec": {
      "name": "python3",
      "display_name": "Python 3"
    }
  },
  "cells": [
    {
      "cell_type": "markdown",
      "metadata": {
        "id": "VD57kVBhzSMz",
        "colab_type": "text"
      },
      "source": [
        "# 5章 誤差逆伝播法\n",
        "## 5.4 単純なレイヤの実装\n",
        "### 5.4.1 乗算レイヤの実装"
      ]
    },
    {
      "cell_type": "code",
      "metadata": {
        "id": "s3KpdpfFy754",
        "colab_type": "code",
        "colab": {}
      },
      "source": [
        "class MulLayer:\n",
        "  def __init__(self):\n",
        "    self.x = None\n",
        "    self.y = None\n",
        "\n",
        "  def forward(self, x, y):\n",
        "    self.x = x\n",
        "    self.y = y\n",
        "    out = x * y\n",
        "    return out\n",
        "\n",
        "  def backward(self, dout):\n",
        "    dx = dout * self.y\n",
        "    dy = dout * self.x\n",
        "    return dx, dy"
      ],
      "execution_count": 1,
      "outputs": []
    },
    {
      "cell_type": "code",
      "metadata": {
        "id": "jNcdO7EC1fnr",
        "colab_type": "code",
        "colab": {
          "base_uri": "https://localhost:8080/",
          "height": 34
        },
        "outputId": "13db16d6-06ef-46af-b75d-8f9eea2559e5"
      },
      "source": [
        "apple = 100\n",
        "apple_num = 2\n",
        "tax = 1.1\n",
        "# layer\n",
        "mul_apple_layer = MulLayer()\n",
        "mul_tax_layer = MulLayer()\n",
        "# forward\n",
        "apple_price = mul_apple_layer.forward(apple, apple_num)\n",
        "price = mul_tax_layer.forward(apple_price, tax)\n",
        "\n",
        "print(price)"
      ],
      "execution_count": 2,
      "outputs": [
        {
          "output_type": "stream",
          "text": [
            "220.00000000000003\n"
          ],
          "name": "stdout"
        }
      ]
    },
    {
      "cell_type": "code",
      "metadata": {
        "id": "SUfgbDR92CdC",
        "colab_type": "code",
        "colab": {
          "base_uri": "https://localhost:8080/",
          "height": 34
        },
        "outputId": "a2e0008f-797f-4fb9-ab7e-8adce687c24e"
      },
      "source": [
        "# backward\n",
        "dprice = 1\n",
        "dapple_price, dtax = mul_tax_layer.backward(dprice)\n",
        "dapple, dapple_num = mul_apple_layer.backward(dapple_price)\n",
        "\n",
        "print(dapple, dapple_num, dtax)"
      ],
      "execution_count": 3,
      "outputs": [
        {
          "output_type": "stream",
          "text": [
            "2.2 110.00000000000001 200\n"
          ],
          "name": "stdout"
        }
      ]
    },
    {
      "cell_type": "markdown",
      "metadata": {
        "id": "ugE1iF4c47ea",
        "colab_type": "text"
      },
      "source": [
        "### 5.4.2 加算レイヤの実装"
      ]
    },
    {
      "cell_type": "code",
      "metadata": {
        "id": "i3m8lzGS2VTW",
        "colab_type": "code",
        "colab": {}
      },
      "source": [
        "class AddLayer:\n",
        "  def __init__(self):\n",
        "    pass\n",
        "\n",
        "  def forward(self, x, y):\n",
        "    out = x + y\n",
        "    return out\n",
        "\n",
        "  def backward(self, dout):\n",
        "    dx = dout * 1\n",
        "    dy = dout * 1\n",
        "    return dx, dy"
      ],
      "execution_count": 4,
      "outputs": []
    },
    {
      "cell_type": "code",
      "metadata": {
        "id": "RKjar7U92wKw",
        "colab_type": "code",
        "colab": {
          "base_uri": "https://localhost:8080/",
          "height": 34
        },
        "outputId": "3396aefa-646c-4c08-8999-14a7c8498fc8"
      },
      "source": [
        "apple = 100\n",
        "apple_num = 2\n",
        "orange = 150\n",
        "orange_num = 3\n",
        "tax = 1.1\n",
        "# layer\n",
        "mul_apple_layer = MulLayer()\n",
        "mul_orange_layer = MulLayer()\n",
        "add_apple_orange_layer = AddLayer()\n",
        "mul_tax_layer = MulLayer()\n",
        "# forward\n",
        "apple_price = mul_apple_layer.forward(apple, apple_num)\n",
        "orange_price = mul_orange_layer.forward(orange, orange_num)\n",
        "all_price = add_apple_orange_layer.forward(apple_price, orange_price)\n",
        "price = mul_tax_layer.forward(all_price, tax)\n",
        "# backward\n",
        "dprice = 1\n",
        "dall_price, dtax = mul_tax_layer.backward(dprice)\n",
        "dapple_price, dorange_price = add_apple_orange_layer.backward(dall_price)\n",
        "dorange, dorange_num = mul_orange_layer.backward(dorange_price)\n",
        "dapple, dapple_num = mul_apple_layer.backward(dapple_price)\n",
        "\n",
        "print(dapple_num, dapple, dorange, dorange_num, dtax)"
      ],
      "execution_count": 7,
      "outputs": [
        {
          "output_type": "stream",
          "text": [
            "110.00000000000001 2.2 3.3000000000000003 165.0 650\n"
          ],
          "name": "stdout"
        }
      ]
    },
    {
      "cell_type": "markdown",
      "metadata": {
        "id": "SXr-nGCR5FlY",
        "colab_type": "text"
      },
      "source": [
        "## 5.5 活性化関数レイヤの実装\n",
        "### 5.5.1 ReLUレイヤ"
      ]
    },
    {
      "cell_type": "code",
      "metadata": {
        "id": "gM5Nimo14PEK",
        "colab_type": "code",
        "colab": {}
      },
      "source": [
        "class Relu:\n",
        "  def __init__(self):\n",
        "    self.mask = None\n",
        "\n",
        "  def forward(self, x):\n",
        "    self.mask = (x <= 0)\n",
        "    out = x.copy()\n",
        "    out[self.mask] = 0\n",
        "    return out\n",
        "\n",
        "  def backward(self, dout):\n",
        "    dout[self.mask] = 0\n",
        "    dx = dout\n",
        "    return dx"
      ],
      "execution_count": 2,
      "outputs": []
    },
    {
      "cell_type": "code",
      "metadata": {
        "id": "hwFX2k6z5oGM",
        "colab_type": "code",
        "colab": {
          "base_uri": "https://localhost:8080/",
          "height": 51
        },
        "outputId": "35bda5cb-ada1-4766-b639-c404838b2ab7"
      },
      "source": [
        "import numpy as np\n",
        "x = np.array([[1.0, -0.5], [-2.0, 3.0]])\n",
        "print(x)"
      ],
      "execution_count": 3,
      "outputs": [
        {
          "output_type": "stream",
          "text": [
            "[[ 1.  -0.5]\n",
            " [-2.   3. ]]\n"
          ],
          "name": "stdout"
        }
      ]
    },
    {
      "cell_type": "code",
      "metadata": {
        "id": "ucl9oP4E5yCM",
        "colab_type": "code",
        "colab": {
          "base_uri": "https://localhost:8080/",
          "height": 51
        },
        "outputId": "0b2f2e8c-a848-40db-df01-03745ab786e4"
      },
      "source": [
        "mask = (x <=0)\n",
        "print(mask)"
      ],
      "execution_count": 11,
      "outputs": [
        {
          "output_type": "stream",
          "text": [
            "[[False  True]\n",
            " [ True False]]\n"
          ],
          "name": "stdout"
        }
      ]
    },
    {
      "cell_type": "markdown",
      "metadata": {
        "id": "zOmXxXVB6T0B",
        "colab_type": "text"
      },
      "source": [
        "### 5.5.2 Sigmoidレイヤの実装"
      ]
    },
    {
      "cell_type": "code",
      "metadata": {
        "id": "avOuPKLQ56u2",
        "colab_type": "code",
        "colab": {}
      },
      "source": [
        "class Sigmoid:\n",
        "  def __init__(self):\n",
        "    self.out = None\n",
        "\n",
        "  def forward(self, x):\n",
        "    out = 1 / (1 + np.exp(-x))\n",
        "    self.out = out\n",
        "    return out\n",
        "\n",
        "  def backward(self, dout):\n",
        "    dx = dout * (1.0 - self.out) * self.out\n",
        "    return dx"
      ],
      "execution_count": 12,
      "outputs": []
    },
    {
      "cell_type": "markdown",
      "metadata": {
        "id": "F_6jXNw37vA-",
        "colab_type": "text"
      },
      "source": [
        "## 5.6 Affine/Softmaxレイヤの実装\n",
        "### 5.6.2 バッチ版Affineレイヤ"
      ]
    },
    {
      "cell_type": "code",
      "metadata": {
        "id": "lI512kOp7oVY",
        "colab_type": "code",
        "colab": {
          "base_uri": "https://localhost:8080/",
          "height": 51
        },
        "outputId": "e0d696cd-ab95-43d2-960d-762083a88757"
      },
      "source": [
        "X_dot_W = np.array([[0, 0, 0], [10, 10, 10]])\n",
        "B = np.array([1, 2, 3])\n",
        "X_dot_W"
      ],
      "execution_count": 13,
      "outputs": [
        {
          "output_type": "execute_result",
          "data": {
            "text/plain": [
              "array([[ 0,  0,  0],\n",
              "       [10, 10, 10]])"
            ]
          },
          "metadata": {
            "tags": []
          },
          "execution_count": 13
        }
      ]
    },
    {
      "cell_type": "code",
      "metadata": {
        "id": "3z6srPX-CV7W",
        "colab_type": "code",
        "colab": {
          "base_uri": "https://localhost:8080/",
          "height": 51
        },
        "outputId": "ea5153b9-243d-4edd-cc43-2189948a960b"
      },
      "source": [
        "X_dot_W + B"
      ],
      "execution_count": 14,
      "outputs": [
        {
          "output_type": "execute_result",
          "data": {
            "text/plain": [
              "array([[ 1,  2,  3],\n",
              "       [11, 12, 13]])"
            ]
          },
          "metadata": {
            "tags": []
          },
          "execution_count": 14
        }
      ]
    },
    {
      "cell_type": "code",
      "metadata": {
        "id": "JCUWfObVCYHd",
        "colab_type": "code",
        "colab": {
          "base_uri": "https://localhost:8080/",
          "height": 51
        },
        "outputId": "2051c3ae-703b-4ab2-a215-e9d3361bf117"
      },
      "source": [
        "dY = np.array([[1, 2, 3], [4, 5, 6]])\n",
        "dY"
      ],
      "execution_count": 17,
      "outputs": [
        {
          "output_type": "execute_result",
          "data": {
            "text/plain": [
              "array([[1, 2, 3],\n",
              "       [4, 5, 6]])"
            ]
          },
          "metadata": {
            "tags": []
          },
          "execution_count": 17
        }
      ]
    },
    {
      "cell_type": "code",
      "metadata": {
        "id": "78xAURNoCi-_",
        "colab_type": "code",
        "colab": {
          "base_uri": "https://localhost:8080/",
          "height": 34
        },
        "outputId": "ebb979ec-413f-43d7-9134-c5e56ee06900"
      },
      "source": [
        "dB = np.sum(dY, axis=0)\n",
        "dB"
      ],
      "execution_count": 18,
      "outputs": [
        {
          "output_type": "execute_result",
          "data": {
            "text/plain": [
              "array([5, 7, 9])"
            ]
          },
          "metadata": {
            "tags": []
          },
          "execution_count": 18
        }
      ]
    },
    {
      "cell_type": "code",
      "metadata": {
        "id": "JggWuUaWCq65",
        "colab_type": "code",
        "colab": {}
      },
      "source": [
        "class Affine:\n",
        "  def __init__(self, W, b):\n",
        "    self.W = W\n",
        "    self.b = b\n",
        "    self.x = None\n",
        "    self.dW = None\n",
        "    self.db = None\n",
        "\n",
        "  def forward(self, x):\n",
        "    self.x = x\n",
        "    out = np.dot(x, self.W) + self.b\n",
        "    return out\n",
        "\n",
        "  def backward(self, dout):\n",
        "    dx = np.dot(dout, self.W.T)\n",
        "    self.dW = np.dot(self.x.T, dout)\n",
        "    self.db = np.sum(dout, axis=0)\n",
        "    return dx"
      ],
      "execution_count": 19,
      "outputs": []
    },
    {
      "cell_type": "markdown",
      "metadata": {
        "id": "XL2XUdF7Exoj",
        "colab_type": "text"
      },
      "source": [
        "### 5.6.3 Softmax-with-Lossレイヤ"
      ]
    },
    {
      "cell_type": "code",
      "metadata": {
        "id": "4sMJf8L7DnXP",
        "colab_type": "code",
        "colab": {}
      },
      "source": [
        "class SoftmaxWithLoss:\n",
        "  def __init__(self):\n",
        "    self.loss = None\n",
        "    self.y = None\n",
        "    self.t = None\n",
        "\n",
        "  def forward(self, x, t):\n",
        "    self.t = t\n",
        "    self.y = softmax(x)\n",
        "    self.loss = cross_entropy_error(self.y, self.t)\n",
        "    return self.SoftmaxWithLoss\n",
        "\n",
        "  def backward(self, dout=1):\n",
        "    batch_size = self.t.shape[0]\n",
        "    dx = (self.y - self.t) / batch_size\n",
        "    return dx"
      ],
      "execution_count": 20,
      "outputs": []
    },
    {
      "cell_type": "markdown",
      "metadata": {
        "id": "EATP0NORGOIi",
        "colab_type": "text"
      },
      "source": [
        "## 5.7 誤差逆伝播法の実装\n",
        "### 5.7.2 誤差逆伝播法に対応したニューラルネットワークの実装\n",
        "別コードで実装"
      ]
    },
    {
      "cell_type": "markdown",
      "metadata": {
        "id": "OFHNn2f8PZsS",
        "colab_type": "text"
      },
      "source": [
        "### 5.7.3 誤差逆伝播法の勾配確認"
      ]
    },
    {
      "cell_type": "code",
      "metadata": {
        "id": "aXZvUU3VGFjs",
        "colab_type": "code",
        "colab": {
          "base_uri": "https://localhost:8080/",
          "height": 85
        },
        "outputId": "f4d2efdc-515b-4888-ca06-1a2b1e183ff1"
      },
      "source": [
        "import sys\n",
        "sys.path.append('/content/drive/My Drive/Colab Notebooks/DeepLearningFromScratch/')\n",
        "import numpy as np\n",
        "from official.dataset.mnist import load_mnist\n",
        "from twolayernet2 import *\n",
        "\n",
        "# データ読み込み\n",
        "(x_training, t_training), (x_test, t_test) = load_mnist(normalize=True, one_hot_label=True)\n",
        "\n",
        "network = TwoLayerNet(input_size=784, hidden_size=50, output_size=10)\n",
        "\n",
        "x_batch = x_training[:3]\n",
        "t_batch = t_training[:3]\n",
        "\n",
        "grad_numerical = network.numerical_gradient(x_batch, t_batch)\n",
        "grad_backprop = network.gradient(x_batch, t_batch)\n",
        "\n",
        "# 各重みの絶対誤差の平均を求める\n",
        "for key in grad_numerical.keys():\n",
        "  diff = np.average(np.abs(grad_backprop[key] - grad_numerical[key]))\n",
        "  print(key + \":\" + str(diff))"
      ],
      "execution_count": 1,
      "outputs": [
        {
          "output_type": "stream",
          "text": [
            "W1:0.0001046460918797607\n",
            "b1:0.000817719102977889\n",
            "W2:0.002297906712487563\n",
            "b2:0.06666666678657075\n"
          ],
          "name": "stdout"
        }
      ]
    },
    {
      "cell_type": "markdown",
      "metadata": {
        "id": "QFOwYvM3YhOf",
        "colab_type": "text"
      },
      "source": [
        "### 5.7.4 誤差逆伝播法を使った学習\n",
        "数値微分によるものよりかなり高速。"
      ]
    },
    {
      "cell_type": "code",
      "metadata": {
        "id": "Cdf3MXQHPwML",
        "colab_type": "code",
        "colab": {
          "base_uri": "https://localhost:8080/",
          "height": 357
        },
        "outputId": "6e7bc058-f378-4b9a-9ac7-bddf93f2c0df"
      },
      "source": [
        "import sys\n",
        "sys.path.append('/content/drive/My Drive/Colab Notebooks/DeepLearningFromScratch/')\n",
        "import numpy as np\n",
        "from official.dataset.mnist import load_mnist\n",
        "from twolayernet2 import *\n",
        "\n",
        "# データ読み込み\n",
        "print(\"=== load mnist\")\n",
        "(x_training, t_training), (x_test, t_test) = load_mnist(normalize=True, one_hot_label=True)\n",
        "\n",
        "print(\"=== make network\")\n",
        "network = TwoLayerNet(input_size=784, hidden_size=50, output_size=10)\n",
        "\n",
        "iters_num = 10000\n",
        "training_size = x_training.shape[0]\n",
        "batch_size = 100\n",
        "learning_rate = 0.1\n",
        "\n",
        "training_loss_list = []\n",
        "training_accuracy_list = []\n",
        "test_accuracy_list = []\n",
        "iter_per_epoch = max(training_size / batch_size, 1)\n",
        "\n",
        "print(\"=== start batches\")\n",
        "for i in range(iters_num):\n",
        "    # ミニバッチの取得\n",
        "    batch_mask = np.random.choice(training_size, batch_size)\n",
        "    x_batch = x_training[batch_mask]\n",
        "    t_batch = t_training[batch_mask]\n",
        "    # 勾配計算\n",
        "    grad = network.gradient(x_batch, t_batch)\n",
        "    # update\n",
        "    for key in ('W1', 'b1', 'W2', 'b2'):\n",
        "        network.params[key] -= learning_rate * grad[key]\n",
        "    # record\n",
        "    loss = network.loss(x_batch, t_batch)\n",
        "    training_loss_list.append(loss)\n",
        "    # 1 epoch ごとに精度を計算\n",
        "    if i % iter_per_epoch == 0:\n",
        "        training_accuracy = network.accuracy(x_training, t_training)\n",
        "        test_accuracy = network.accuracy(x_test, t_test)\n",
        "        training_accuracy_list.append(training_accuracy)\n",
        "        test_accuracy_list.append(test_accuracy)\n",
        "        print(\"training accuracy, test accuracy | \" + str(training_accuracy) + \", \" + str(test_accuracy))"
      ],
      "execution_count": 1,
      "outputs": [
        {
          "output_type": "stream",
          "text": [
            "=== load mnist\n",
            "=== make network\n",
            "=== start batches\n",
            "training accuracy, test accuracy | 0.08923333333333333, 0.0881\n",
            "training accuracy, test accuracy | 0.8939833333333334, 0.8999\n",
            "training accuracy, test accuracy | 0.9226833333333333, 0.9239\n",
            "training accuracy, test accuracy | 0.9344833333333333, 0.9353\n",
            "training accuracy, test accuracy | 0.94215, 0.9416\n",
            "training accuracy, test accuracy | 0.9511166666666667, 0.948\n",
            "training accuracy, test accuracy | 0.95485, 0.9492\n",
            "training accuracy, test accuracy | 0.9592166666666667, 0.9544\n",
            "training accuracy, test accuracy | 0.9610166666666666, 0.955\n",
            "training accuracy, test accuracy | 0.96345, 0.9589\n",
            "training accuracy, test accuracy | 0.9678166666666667, 0.9625\n",
            "training accuracy, test accuracy | 0.9696166666666667, 0.963\n",
            "training accuracy, test accuracy | 0.9717333333333333, 0.9634\n",
            "training accuracy, test accuracy | 0.97265, 0.9651\n",
            "training accuracy, test accuracy | 0.97505, 0.9666\n",
            "training accuracy, test accuracy | 0.9759666666666666, 0.9676\n",
            "training accuracy, test accuracy | 0.9772833333333333, 0.9672\n"
          ],
          "name": "stdout"
        }
      ]
    },
    {
      "cell_type": "markdown",
      "metadata": {
        "id": "rBcvMY0KcqK4",
        "colab_type": "text"
      },
      "source": [
        "# 5章終わり"
      ]
    },
    {
      "cell_type": "code",
      "metadata": {
        "id": "1rl0N9jQasIN",
        "colab_type": "code",
        "colab": {}
      },
      "source": [
        ""
      ],
      "execution_count": null,
      "outputs": []
    }
  ]
}